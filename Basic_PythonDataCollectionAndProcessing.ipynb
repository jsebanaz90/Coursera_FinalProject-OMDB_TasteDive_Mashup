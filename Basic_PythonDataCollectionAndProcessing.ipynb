{
 "cells": [
  {
   "cell_type": "code",
   "execution_count": null,
   "metadata": {},
   "outputs": [],
   "source": [
    "import requests_with_caching\n",
    "import json\n",
    "\n",
    "###  function that takes one input parameter, a string that is the name of a movie or music artist. \n",
    "###  The function should return th\n",
    "def get_movies_from_tastedive(input_title):\n",
    "    base_url = 'https://tastedive.com/api/similar'\n",
    "    param_d = {}\n",
    "    param_d['q'] = input_title\n",
    "    param_d['limit'] = 5\n",
    "    param_d['type'] = 'movies'\n",
    "    response = requests_with_caching.get(base_url, params = param_d)\n",
    "    response_d=response.json()\n",
    "    return response_d\n",
    "    #return json.loads(response.text)\n",
    "    \n",
    "###  function that extracts just the list of movie titles from a dictionary returned by get_movies_from_tastedive\n",
    "def extract_movie_titles(dic):\n",
    "    list = []\n",
    "    for item in dic['Similar']['Results']:\n",
    "        list.append(item['Name'])\n",
    "    return(list)\n",
    "\n",
    "##  takes a list of movie titles as input. It gets five related movies for each from TasteDive, extracts the titles \n",
    "##  for all of them, and combines them all into a single list.\n",
    "def get_related_titles(lst_movies):\n",
    "    list = []\n",
    "    for movie in lst_movies:\n",
    "        new = extract_movie_titles(get_movies_from_tastedive(movie))\n",
    "        for movie in new:\n",
    "            if movie not in list:\n",
    "                list.append(movie)\n",
    "    return list\n",
    "\n",
    "## funtion that takes in one parameter which is a string that should represent the title of a movie you want to search. \n",
    "## The function should return a dictionary with information about that movie.\n",
    "def get_movie_data(movie_title):\n",
    "    base_url = \"http://www.omdbapi.com/\"\n",
    "    d = {}\n",
    "    d[\"t\"] = movie_title\n",
    "    d[\"r\"] = \"json\"\n",
    "    response = requests_with_caching.get(base_url,params = d)\n",
    "    response_d = response.json()\n",
    "    return response_d\n"
   ]
  }
 ],
 "metadata": {
  "kernelspec": {
   "display_name": "Python 3",
   "language": "python",
   "name": "python3"
  },
  "language_info": {
   "codemirror_mode": {
    "name": "ipython",
    "version": 3
   },
   "file_extension": ".py",
   "mimetype": "text/x-python",
   "name": "python",
   "nbconvert_exporter": "python",
   "pygments_lexer": "ipython3",
   "version": "3.6.3"
  }
 },
 "nbformat": 4,
 "nbformat_minor": 2
}
