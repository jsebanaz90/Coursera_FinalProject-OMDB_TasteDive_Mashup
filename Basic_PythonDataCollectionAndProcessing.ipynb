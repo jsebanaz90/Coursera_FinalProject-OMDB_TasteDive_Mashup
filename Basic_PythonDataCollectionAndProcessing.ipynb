{
 "cells": [
  {
   "cell_type": "code",
   "execution_count": null,
   "metadata": {},
   "outputs": [],
   "source": [
    "import requests_with_caching\n",
    "import json\n",
    "\n",
    "###  function that takes one input parameter, a string that is the name of a movie or music artist. \n",
    "###  The function should return th\n",
    "def get_movies_from_tastedive(input_title):\n",
    "    base_url = 'https://tastedive.com/api/similar'\n",
    "    param_d = {}\n",
    "    param_d['q'] = input_title\n",
    "    param_d['limit'] = 5\n",
    "    param_d['type'] = 'movies'\n",
    "    response = requests_with_caching.get(base_url, params = param_d)\n",
    "    response_d=response.json()\n",
    "    return response_d\n",
    "    #return json.loads(response.text)\n",
    "    \n",
    "###  function that extracts just the list of movie titles from a dictionary returned by get_movies_from_tastedive\n",
    "def extract_movie_titles(dic):\n",
    "    list = []\n",
    "    for item in dic['Similar']['Results']:\n",
    "        list.append(item['Name'])\n",
    "    return(list)"
   ]
  }
 ],
 "metadata": {
  "kernelspec": {
   "display_name": "Python 3",
   "language": "python",
   "name": "python3"
  },
  "language_info": {
   "codemirror_mode": {
    "name": "ipython",
    "version": 3
   },
   "file_extension": ".py",
   "mimetype": "text/x-python",
   "name": "python",
   "nbconvert_exporter": "python",
   "pygments_lexer": "ipython3",
   "version": "3.6.3"
  }
 },
 "nbformat": 4,
 "nbformat_minor": 2
}
